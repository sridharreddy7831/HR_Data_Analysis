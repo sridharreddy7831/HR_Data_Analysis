{
 "cells": [
  {
   "cell_type": "code",
   "execution_count": 1,
   "id": "ff9ddd81",
   "metadata": {},
   "outputs": [],
   "source": [
    "import pandas as pd\n",
    "import numpy as np"
   ]
  },
  {
   "cell_type": "code",
   "execution_count": null,
   "id": "f8afb41f",
   "metadata": {},
   "outputs": [],
   "source": [
    "# Load your dataset from a CSV file into a Pandas DataFrame.\n",
    "df = pd.read_csv('../Data\\HR-Employee-Attrition.csv') "
   ]
  },
  {
   "cell_type": "markdown",
   "id": "005d20c9",
   "metadata": {},
   "source": [
    "### 1. Basic Checks"
   ]
  },
  {
   "cell_type": "code",
   "execution_count": null,
   "id": "23deb3ce",
   "metadata": {},
   "outputs": [
    {
     "data": {
      "text/html": [
       "<div>\n",
       "<style scoped>\n",
       "    .dataframe tbody tr th:only-of-type {\n",
       "        vertical-align: middle;\n",
       "    }\n",
       "\n",
       "    .dataframe tbody tr th {\n",
       "        vertical-align: top;\n",
       "    }\n",
       "\n",
       "    .dataframe thead th {\n",
       "        text-align: right;\n",
       "    }\n",
       "</style>\n",
       "<table border=\"1\" class=\"dataframe\">\n",
       "  <thead>\n",
       "    <tr style=\"text-align: right;\">\n",
       "      <th></th>\n",
       "      <th>Age</th>\n",
       "      <th>Attrition</th>\n",
       "      <th>BusinessTravel</th>\n",
       "      <th>DailyRate</th>\n",
       "      <th>Department</th>\n",
       "      <th>DistanceFromHome</th>\n",
       "      <th>Education</th>\n",
       "      <th>EducationField</th>\n",
       "      <th>EmployeeCount</th>\n",
       "      <th>EmployeeNumber</th>\n",
       "      <th>...</th>\n",
       "      <th>RelationshipSatisfaction</th>\n",
       "      <th>StandardHours</th>\n",
       "      <th>StockOptionLevel</th>\n",
       "      <th>TotalWorkingYears</th>\n",
       "      <th>TrainingTimesLastYear</th>\n",
       "      <th>WorkLifeBalance</th>\n",
       "      <th>YearsAtCompany</th>\n",
       "      <th>YearsInCurrentRole</th>\n",
       "      <th>YearsSinceLastPromotion</th>\n",
       "      <th>YearsWithCurrManager</th>\n",
       "    </tr>\n",
       "  </thead>\n",
       "  <tbody>\n",
       "    <tr>\n",
       "      <th>0</th>\n",
       "      <td>41</td>\n",
       "      <td>Yes</td>\n",
       "      <td>Travel_Rarely</td>\n",
       "      <td>1102</td>\n",
       "      <td>Sales</td>\n",
       "      <td>1</td>\n",
       "      <td>2</td>\n",
       "      <td>Life Sciences</td>\n",
       "      <td>1</td>\n",
       "      <td>1</td>\n",
       "      <td>...</td>\n",
       "      <td>1</td>\n",
       "      <td>80</td>\n",
       "      <td>0</td>\n",
       "      <td>8</td>\n",
       "      <td>0</td>\n",
       "      <td>1</td>\n",
       "      <td>6</td>\n",
       "      <td>4</td>\n",
       "      <td>0</td>\n",
       "      <td>5</td>\n",
       "    </tr>\n",
       "    <tr>\n",
       "      <th>1</th>\n",
       "      <td>49</td>\n",
       "      <td>No</td>\n",
       "      <td>Travel_Frequently</td>\n",
       "      <td>279</td>\n",
       "      <td>Research &amp; Development</td>\n",
       "      <td>8</td>\n",
       "      <td>1</td>\n",
       "      <td>Life Sciences</td>\n",
       "      <td>1</td>\n",
       "      <td>2</td>\n",
       "      <td>...</td>\n",
       "      <td>4</td>\n",
       "      <td>80</td>\n",
       "      <td>1</td>\n",
       "      <td>10</td>\n",
       "      <td>3</td>\n",
       "      <td>3</td>\n",
       "      <td>10</td>\n",
       "      <td>7</td>\n",
       "      <td>1</td>\n",
       "      <td>7</td>\n",
       "    </tr>\n",
       "    <tr>\n",
       "      <th>2</th>\n",
       "      <td>37</td>\n",
       "      <td>Yes</td>\n",
       "      <td>Travel_Rarely</td>\n",
       "      <td>1373</td>\n",
       "      <td>Research &amp; Development</td>\n",
       "      <td>2</td>\n",
       "      <td>2</td>\n",
       "      <td>Other</td>\n",
       "      <td>1</td>\n",
       "      <td>4</td>\n",
       "      <td>...</td>\n",
       "      <td>2</td>\n",
       "      <td>80</td>\n",
       "      <td>0</td>\n",
       "      <td>7</td>\n",
       "      <td>3</td>\n",
       "      <td>3</td>\n",
       "      <td>0</td>\n",
       "      <td>0</td>\n",
       "      <td>0</td>\n",
       "      <td>0</td>\n",
       "    </tr>\n",
       "    <tr>\n",
       "      <th>3</th>\n",
       "      <td>33</td>\n",
       "      <td>No</td>\n",
       "      <td>Travel_Frequently</td>\n",
       "      <td>1392</td>\n",
       "      <td>Research &amp; Development</td>\n",
       "      <td>3</td>\n",
       "      <td>4</td>\n",
       "      <td>Life Sciences</td>\n",
       "      <td>1</td>\n",
       "      <td>5</td>\n",
       "      <td>...</td>\n",
       "      <td>3</td>\n",
       "      <td>80</td>\n",
       "      <td>0</td>\n",
       "      <td>8</td>\n",
       "      <td>3</td>\n",
       "      <td>3</td>\n",
       "      <td>8</td>\n",
       "      <td>7</td>\n",
       "      <td>3</td>\n",
       "      <td>0</td>\n",
       "    </tr>\n",
       "    <tr>\n",
       "      <th>4</th>\n",
       "      <td>27</td>\n",
       "      <td>No</td>\n",
       "      <td>Travel_Rarely</td>\n",
       "      <td>591</td>\n",
       "      <td>Research &amp; Development</td>\n",
       "      <td>2</td>\n",
       "      <td>1</td>\n",
       "      <td>Medical</td>\n",
       "      <td>1</td>\n",
       "      <td>7</td>\n",
       "      <td>...</td>\n",
       "      <td>4</td>\n",
       "      <td>80</td>\n",
       "      <td>1</td>\n",
       "      <td>6</td>\n",
       "      <td>3</td>\n",
       "      <td>3</td>\n",
       "      <td>2</td>\n",
       "      <td>2</td>\n",
       "      <td>2</td>\n",
       "      <td>2</td>\n",
       "    </tr>\n",
       "  </tbody>\n",
       "</table>\n",
       "<p>5 rows × 35 columns</p>\n",
       "</div>"
      ],
      "text/plain": [
       "   Age Attrition     BusinessTravel  DailyRate              Department  \\\n",
       "0   41       Yes      Travel_Rarely       1102                   Sales   \n",
       "1   49        No  Travel_Frequently        279  Research & Development   \n",
       "2   37       Yes      Travel_Rarely       1373  Research & Development   \n",
       "3   33        No  Travel_Frequently       1392  Research & Development   \n",
       "4   27        No      Travel_Rarely        591  Research & Development   \n",
       "\n",
       "   DistanceFromHome  Education EducationField  EmployeeCount  EmployeeNumber  \\\n",
       "0                 1          2  Life Sciences              1               1   \n",
       "1                 8          1  Life Sciences              1               2   \n",
       "2                 2          2          Other              1               4   \n",
       "3                 3          4  Life Sciences              1               5   \n",
       "4                 2          1        Medical              1               7   \n",
       "\n",
       "   ...  RelationshipSatisfaction StandardHours  StockOptionLevel  \\\n",
       "0  ...                         1            80                 0   \n",
       "1  ...                         4            80                 1   \n",
       "2  ...                         2            80                 0   \n",
       "3  ...                         3            80                 0   \n",
       "4  ...                         4            80                 1   \n",
       "\n",
       "   TotalWorkingYears  TrainingTimesLastYear WorkLifeBalance  YearsAtCompany  \\\n",
       "0                  8                      0               1               6   \n",
       "1                 10                      3               3              10   \n",
       "2                  7                      3               3               0   \n",
       "3                  8                      3               3               8   \n",
       "4                  6                      3               3               2   \n",
       "\n",
       "  YearsInCurrentRole  YearsSinceLastPromotion  YearsWithCurrManager  \n",
       "0                  4                        0                     5  \n",
       "1                  7                        1                     7  \n",
       "2                  0                        0                     0  \n",
       "3                  7                        3                     0  \n",
       "4                  2                        2                     2  \n",
       "\n",
       "[5 rows x 35 columns]"
      ]
     },
     "execution_count": 10,
     "metadata": {},
     "output_type": "execute_result"
    }
   ],
   "source": [
    "# Display the first 5 rows of the DataFrame.\n",
    "df.head(5)"
   ]
  },
  {
   "cell_type": "code",
   "execution_count": null,
   "id": "342d8f43",
   "metadata": {},
   "outputs": [
    {
     "data": {
      "text/html": [
       "<div>\n",
       "<style scoped>\n",
       "    .dataframe tbody tr th:only-of-type {\n",
       "        vertical-align: middle;\n",
       "    }\n",
       "\n",
       "    .dataframe tbody tr th {\n",
       "        vertical-align: top;\n",
       "    }\n",
       "\n",
       "    .dataframe thead th {\n",
       "        text-align: right;\n",
       "    }\n",
       "</style>\n",
       "<table border=\"1\" class=\"dataframe\">\n",
       "  <thead>\n",
       "    <tr style=\"text-align: right;\">\n",
       "      <th></th>\n",
       "      <th>Age</th>\n",
       "      <th>Attrition</th>\n",
       "      <th>BusinessTravel</th>\n",
       "      <th>DailyRate</th>\n",
       "      <th>Department</th>\n",
       "      <th>DistanceFromHome</th>\n",
       "      <th>Education</th>\n",
       "      <th>EducationField</th>\n",
       "      <th>EmployeeCount</th>\n",
       "      <th>EmployeeNumber</th>\n",
       "      <th>...</th>\n",
       "      <th>RelationshipSatisfaction</th>\n",
       "      <th>StandardHours</th>\n",
       "      <th>StockOptionLevel</th>\n",
       "      <th>TotalWorkingYears</th>\n",
       "      <th>TrainingTimesLastYear</th>\n",
       "      <th>WorkLifeBalance</th>\n",
       "      <th>YearsAtCompany</th>\n",
       "      <th>YearsInCurrentRole</th>\n",
       "      <th>YearsSinceLastPromotion</th>\n",
       "      <th>YearsWithCurrManager</th>\n",
       "    </tr>\n",
       "  </thead>\n",
       "  <tbody>\n",
       "    <tr>\n",
       "      <th>1465</th>\n",
       "      <td>36</td>\n",
       "      <td>No</td>\n",
       "      <td>Travel_Frequently</td>\n",
       "      <td>884</td>\n",
       "      <td>Research &amp; Development</td>\n",
       "      <td>23</td>\n",
       "      <td>2</td>\n",
       "      <td>Medical</td>\n",
       "      <td>1</td>\n",
       "      <td>2061</td>\n",
       "      <td>...</td>\n",
       "      <td>3</td>\n",
       "      <td>80</td>\n",
       "      <td>1</td>\n",
       "      <td>17</td>\n",
       "      <td>3</td>\n",
       "      <td>3</td>\n",
       "      <td>5</td>\n",
       "      <td>2</td>\n",
       "      <td>0</td>\n",
       "      <td>3</td>\n",
       "    </tr>\n",
       "    <tr>\n",
       "      <th>1466</th>\n",
       "      <td>39</td>\n",
       "      <td>No</td>\n",
       "      <td>Travel_Rarely</td>\n",
       "      <td>613</td>\n",
       "      <td>Research &amp; Development</td>\n",
       "      <td>6</td>\n",
       "      <td>1</td>\n",
       "      <td>Medical</td>\n",
       "      <td>1</td>\n",
       "      <td>2062</td>\n",
       "      <td>...</td>\n",
       "      <td>1</td>\n",
       "      <td>80</td>\n",
       "      <td>1</td>\n",
       "      <td>9</td>\n",
       "      <td>5</td>\n",
       "      <td>3</td>\n",
       "      <td>7</td>\n",
       "      <td>7</td>\n",
       "      <td>1</td>\n",
       "      <td>7</td>\n",
       "    </tr>\n",
       "    <tr>\n",
       "      <th>1467</th>\n",
       "      <td>27</td>\n",
       "      <td>No</td>\n",
       "      <td>Travel_Rarely</td>\n",
       "      <td>155</td>\n",
       "      <td>Research &amp; Development</td>\n",
       "      <td>4</td>\n",
       "      <td>3</td>\n",
       "      <td>Life Sciences</td>\n",
       "      <td>1</td>\n",
       "      <td>2064</td>\n",
       "      <td>...</td>\n",
       "      <td>2</td>\n",
       "      <td>80</td>\n",
       "      <td>1</td>\n",
       "      <td>6</td>\n",
       "      <td>0</td>\n",
       "      <td>3</td>\n",
       "      <td>6</td>\n",
       "      <td>2</td>\n",
       "      <td>0</td>\n",
       "      <td>3</td>\n",
       "    </tr>\n",
       "    <tr>\n",
       "      <th>1468</th>\n",
       "      <td>49</td>\n",
       "      <td>No</td>\n",
       "      <td>Travel_Frequently</td>\n",
       "      <td>1023</td>\n",
       "      <td>Sales</td>\n",
       "      <td>2</td>\n",
       "      <td>3</td>\n",
       "      <td>Medical</td>\n",
       "      <td>1</td>\n",
       "      <td>2065</td>\n",
       "      <td>...</td>\n",
       "      <td>4</td>\n",
       "      <td>80</td>\n",
       "      <td>0</td>\n",
       "      <td>17</td>\n",
       "      <td>3</td>\n",
       "      <td>2</td>\n",
       "      <td>9</td>\n",
       "      <td>6</td>\n",
       "      <td>0</td>\n",
       "      <td>8</td>\n",
       "    </tr>\n",
       "    <tr>\n",
       "      <th>1469</th>\n",
       "      <td>34</td>\n",
       "      <td>No</td>\n",
       "      <td>Travel_Rarely</td>\n",
       "      <td>628</td>\n",
       "      <td>Research &amp; Development</td>\n",
       "      <td>8</td>\n",
       "      <td>3</td>\n",
       "      <td>Medical</td>\n",
       "      <td>1</td>\n",
       "      <td>2068</td>\n",
       "      <td>...</td>\n",
       "      <td>1</td>\n",
       "      <td>80</td>\n",
       "      <td>0</td>\n",
       "      <td>6</td>\n",
       "      <td>3</td>\n",
       "      <td>4</td>\n",
       "      <td>4</td>\n",
       "      <td>3</td>\n",
       "      <td>1</td>\n",
       "      <td>2</td>\n",
       "    </tr>\n",
       "  </tbody>\n",
       "</table>\n",
       "<p>5 rows × 35 columns</p>\n",
       "</div>"
      ],
      "text/plain": [
       "      Age Attrition     BusinessTravel  DailyRate              Department  \\\n",
       "1465   36        No  Travel_Frequently        884  Research & Development   \n",
       "1466   39        No      Travel_Rarely        613  Research & Development   \n",
       "1467   27        No      Travel_Rarely        155  Research & Development   \n",
       "1468   49        No  Travel_Frequently       1023                   Sales   \n",
       "1469   34        No      Travel_Rarely        628  Research & Development   \n",
       "\n",
       "      DistanceFromHome  Education EducationField  EmployeeCount  \\\n",
       "1465                23          2        Medical              1   \n",
       "1466                 6          1        Medical              1   \n",
       "1467                 4          3  Life Sciences              1   \n",
       "1468                 2          3        Medical              1   \n",
       "1469                 8          3        Medical              1   \n",
       "\n",
       "      EmployeeNumber  ...  RelationshipSatisfaction StandardHours  \\\n",
       "1465            2061  ...                         3            80   \n",
       "1466            2062  ...                         1            80   \n",
       "1467            2064  ...                         2            80   \n",
       "1468            2065  ...                         4            80   \n",
       "1469            2068  ...                         1            80   \n",
       "\n",
       "      StockOptionLevel  TotalWorkingYears  TrainingTimesLastYear  \\\n",
       "1465                 1                 17                      3   \n",
       "1466                 1                  9                      5   \n",
       "1467                 1                  6                      0   \n",
       "1468                 0                 17                      3   \n",
       "1469                 0                  6                      3   \n",
       "\n",
       "     WorkLifeBalance  YearsAtCompany YearsInCurrentRole  \\\n",
       "1465               3               5                  2   \n",
       "1466               3               7                  7   \n",
       "1467               3               6                  2   \n",
       "1468               2               9                  6   \n",
       "1469               4               4                  3   \n",
       "\n",
       "      YearsSinceLastPromotion  YearsWithCurrManager  \n",
       "1465                        0                     3  \n",
       "1466                        1                     7  \n",
       "1467                        0                     3  \n",
       "1468                        0                     8  \n",
       "1469                        1                     2  \n",
       "\n",
       "[5 rows x 35 columns]"
      ]
     },
     "execution_count": 11,
     "metadata": {},
     "output_type": "execute_result"
    }
   ],
   "source": [
    "# Display the last 5 rows of the DataFrame.\n",
    "df.tail(5)"
   ]
  },
  {
   "cell_type": "code",
   "execution_count": 12,
   "id": "1fd69fa8",
   "metadata": {},
   "outputs": [
    {
     "name": "stdout",
     "output_type": "stream",
     "text": [
      "\n",
      "Column names and their data types:\n",
      "<class 'pandas.core.frame.DataFrame'>\n",
      "RangeIndex: 1470 entries, 0 to 1469\n",
      "Data columns (total 35 columns):\n",
      " #   Column                    Non-Null Count  Dtype \n",
      "---  ------                    --------------  ----- \n",
      " 0   Age                       1470 non-null   int64 \n",
      " 1   Attrition                 1470 non-null   object\n",
      " 2   BusinessTravel            1470 non-null   object\n",
      " 3   DailyRate                 1470 non-null   int64 \n",
      " 4   Department                1470 non-null   object\n",
      " 5   DistanceFromHome          1470 non-null   int64 \n",
      " 6   Education                 1470 non-null   int64 \n",
      " 7   EducationField            1470 non-null   object\n",
      " 8   EmployeeCount             1470 non-null   int64 \n",
      " 9   EmployeeNumber            1470 non-null   int64 \n",
      " 10  EnvironmentSatisfaction   1470 non-null   int64 \n",
      " 11  Gender                    1470 non-null   object\n",
      " 12  HourlyRate                1470 non-null   int64 \n",
      " 13  JobInvolvement            1470 non-null   int64 \n",
      " 14  JobLevel                  1470 non-null   int64 \n",
      " 15  JobRole                   1470 non-null   object\n",
      " 16  JobSatisfaction           1470 non-null   int64 \n",
      " 17  MaritalStatus             1470 non-null   object\n",
      " 18  MonthlyIncome             1470 non-null   int64 \n",
      " 19  MonthlyRate               1470 non-null   int64 \n",
      " 20  NumCompaniesWorked        1470 non-null   int64 \n",
      " 21  Over18                    1470 non-null   object\n",
      " 22  OverTime                  1470 non-null   object\n",
      " 23  PercentSalaryHike         1470 non-null   int64 \n",
      " 24  PerformanceRating         1470 non-null   int64 \n",
      " 25  RelationshipSatisfaction  1470 non-null   int64 \n",
      " 26  StandardHours             1470 non-null   int64 \n",
      " 27  StockOptionLevel          1470 non-null   int64 \n",
      " 28  TotalWorkingYears         1470 non-null   int64 \n",
      " 29  TrainingTimesLastYear     1470 non-null   int64 \n",
      " 30  WorkLifeBalance           1470 non-null   int64 \n",
      " 31  YearsAtCompany            1470 non-null   int64 \n",
      " 32  YearsInCurrentRole        1470 non-null   int64 \n",
      " 33  YearsSinceLastPromotion   1470 non-null   int64 \n",
      " 34  YearsWithCurrManager      1470 non-null   int64 \n",
      "dtypes: int64(26), object(9)\n",
      "memory usage: 402.1+ KB\n",
      "None\n"
     ]
    }
   ],
   "source": [
    "# Display a concise summary of the DataFrame.\n",
    "# This includes the column names, number of non-null values (useful for identifying missing data),\n",
    "# and the data type of each column (e.g., int64 for integers, object for strings).\n",
    "\n",
    "print(\"\\nColumn names and their data types:\")\n",
    "print(df.info())"
   ]
  },
  {
   "cell_type": "code",
   "execution_count": 13,
   "id": "9f33bd97",
   "metadata": {},
   "outputs": [
    {
     "name": "stdout",
     "output_type": "stream",
     "text": [
      "\n",
      "Descriptive statistics for numerical columns:\n",
      "               Age    DailyRate  DistanceFromHome    Education  EmployeeCount  \\\n",
      "count  1470.000000  1470.000000       1470.000000  1470.000000         1470.0   \n",
      "mean     36.923810   802.485714          9.192517     2.912925            1.0   \n",
      "std       9.135373   403.509100          8.106864     1.024165            0.0   \n",
      "min      18.000000   102.000000          1.000000     1.000000            1.0   \n",
      "25%      30.000000   465.000000          2.000000     2.000000            1.0   \n",
      "50%      36.000000   802.000000          7.000000     3.000000            1.0   \n",
      "75%      43.000000  1157.000000         14.000000     4.000000            1.0   \n",
      "max      60.000000  1499.000000         29.000000     5.000000            1.0   \n",
      "\n",
      "       EmployeeNumber  EnvironmentSatisfaction   HourlyRate  JobInvolvement  \\\n",
      "count     1470.000000              1470.000000  1470.000000     1470.000000   \n",
      "mean      1024.865306                 2.721769    65.891156        2.729932   \n",
      "std        602.024335                 1.093082    20.329428        0.711561   \n",
      "min          1.000000                 1.000000    30.000000        1.000000   \n",
      "25%        491.250000                 2.000000    48.000000        2.000000   \n",
      "50%       1020.500000                 3.000000    66.000000        3.000000   \n",
      "75%       1555.750000                 4.000000    83.750000        3.000000   \n",
      "max       2068.000000                 4.000000   100.000000        4.000000   \n",
      "\n",
      "          JobLevel  ...  RelationshipSatisfaction  StandardHours  \\\n",
      "count  1470.000000  ...               1470.000000         1470.0   \n",
      "mean      2.063946  ...                  2.712245           80.0   \n",
      "std       1.106940  ...                  1.081209            0.0   \n",
      "min       1.000000  ...                  1.000000           80.0   \n",
      "25%       1.000000  ...                  2.000000           80.0   \n",
      "50%       2.000000  ...                  3.000000           80.0   \n",
      "75%       3.000000  ...                  4.000000           80.0   \n",
      "max       5.000000  ...                  4.000000           80.0   \n",
      "\n",
      "       StockOptionLevel  TotalWorkingYears  TrainingTimesLastYear  \\\n",
      "count       1470.000000        1470.000000            1470.000000   \n",
      "mean           0.793878          11.279592               2.799320   \n",
      "std            0.852077           7.780782               1.289271   \n",
      "min            0.000000           0.000000               0.000000   \n",
      "25%            0.000000           6.000000               2.000000   \n",
      "50%            1.000000          10.000000               3.000000   \n",
      "75%            1.000000          15.000000               3.000000   \n",
      "max            3.000000          40.000000               6.000000   \n",
      "\n",
      "       WorkLifeBalance  YearsAtCompany  YearsInCurrentRole  \\\n",
      "count      1470.000000     1470.000000         1470.000000   \n",
      "mean          2.761224        7.008163            4.229252   \n",
      "std           0.706476        6.126525            3.623137   \n",
      "min           1.000000        0.000000            0.000000   \n",
      "25%           2.000000        3.000000            2.000000   \n",
      "50%           3.000000        5.000000            3.000000   \n",
      "75%           3.000000        9.000000            7.000000   \n",
      "max           4.000000       40.000000           18.000000   \n",
      "\n",
      "       YearsSinceLastPromotion  YearsWithCurrManager  \n",
      "count              1470.000000           1470.000000  \n",
      "mean                  2.187755              4.123129  \n",
      "std                   3.222430              3.568136  \n",
      "min                   0.000000              0.000000  \n",
      "25%                   0.000000              2.000000  \n",
      "50%                   1.000000              3.000000  \n",
      "75%                   3.000000              7.000000  \n",
      "max                  15.000000             17.000000  \n",
      "\n",
      "[8 rows x 26 columns]\n"
     ]
    }
   ],
   "source": [
    "# Generate descriptive statistics for numerical columns in the DataFrame.\n",
    "# This provides insights into the central tendency, dispersion, and shape of the data's distribution.\n",
    "# Statistics include count, mean, standard deviation, min, max, and quartile ranges (25%, 50%, 75%).\n",
    "\n",
    "print(\"\\nDescriptive statistics for numerical columns:\")\n",
    "print(df.describe())"
   ]
  },
  {
   "cell_type": "code",
   "execution_count": 15,
   "id": "d67a1f1c",
   "metadata": {},
   "outputs": [
    {
     "name": "stdout",
     "output_type": "stream",
     "text": [
      "\n",
      "Missing values in each column:\n",
      "Age                         0\n",
      "Attrition                   0\n",
      "BusinessTravel              0\n",
      "DailyRate                   0\n",
      "Department                  0\n",
      "DistanceFromHome            0\n",
      "Education                   0\n",
      "EducationField              0\n",
      "EmployeeCount               0\n",
      "EmployeeNumber              0\n",
      "EnvironmentSatisfaction     0\n",
      "Gender                      0\n",
      "HourlyRate                  0\n",
      "JobInvolvement              0\n",
      "JobLevel                    0\n",
      "JobRole                     0\n",
      "JobSatisfaction             0\n",
      "MaritalStatus               0\n",
      "MonthlyIncome               0\n",
      "MonthlyRate                 0\n",
      "NumCompaniesWorked          0\n",
      "Over18                      0\n",
      "OverTime                    0\n",
      "PercentSalaryHike           0\n",
      "PerformanceRating           0\n",
      "RelationshipSatisfaction    0\n",
      "StandardHours               0\n",
      "StockOptionLevel            0\n",
      "TotalWorkingYears           0\n",
      "TrainingTimesLastYear       0\n",
      "WorkLifeBalance             0\n",
      "YearsAtCompany              0\n",
      "YearsInCurrentRole          0\n",
      "YearsSinceLastPromotion     0\n",
      "YearsWithCurrManager        0\n",
      "dtype: int64\n"
     ]
    }
   ],
   "source": [
    "# Check for missing values in each column.\n",
    "# `.isnull()` returns a boolean DataFrame (True for missing, False for not missing).\n",
    "# `.sum()` then counts the number of True values (i.e., missing values) for each column.\n",
    "\n",
    "print(\"\\nMissing values in each column:\")\n",
    "print(df.isnull().sum())"
   ]
  },
  {
   "cell_type": "code",
   "execution_count": 16,
   "id": "a42bd6d4",
   "metadata": {},
   "outputs": [
    {
     "name": "stdout",
     "output_type": "stream",
     "text": [
      "\n",
      "Number of duplicate rows:\n",
      "0\n"
     ]
    }
   ],
   "source": [
    "# Check for duplicate rows across the entire DataFrame.\n",
    "# `.duplicated()` returns a boolean Series indicating if each row is a duplicate of a previous row.\n",
    "# `.sum()` then counts the total number of True values (i.e., duplicate rows).\n",
    "\n",
    "print(\"\\nNumber of duplicate rows:\")\n",
    "print(df.duplicated().sum())"
   ]
  },
  {
   "cell_type": "markdown",
   "id": "bad37407",
   "metadata": {},
   "source": [
    "### 2. Data Cleaning."
   ]
  },
  {
   "cell_type": "markdown",
   "id": "62e22000",
   "metadata": {},
   "source": [
    "Data cleaning is a crucial phase where you prepare your raw data for analysis. Real-world datasets are often messy and contain inconsistencies, errors, or unsuitable formats. This step ensures the data is accurate, consistent, and ready for effective exploration and modeling.\n",
    "\n",
    "**A. Objective:**\n",
    "* To handle missing values (if any).\n",
    "* To address duplicate records (if any).\n",
    "* To correct incorrect data types (e.g., numbers stored as text).\n",
    "* To handle outliers or inconsistencies (though this dataset seems quite clean based on initial checks).\n",
    "* To transform data into a more usable format for analysis.\n",
    "\n",
    "**B. Why it's important:**\n",
    "* **Accuracy:** Incorrect or messy data can lead to flawed analysis and misleading insights.\n",
    "* **Consistency:** Ensures data is uniform, allowing for proper comparisons and aggregations.\n",
    "* **Usability:** Many analysis and visualization tools or statistical models require specific data formats and clean inputs.\n",
    "* **Efficiency:** Clean data makes subsequent analysis steps much smoother and faster.\n",
    "\n",
    "**C. Common Cleaning Tasks for this HR Dataset:**\n",
    "Based on our initial check, this dataset is quite clean. We found:\n",
    "* No missing values.\n",
    "* No duplicate rows.\n",
    "\n",
    "However, one important cleaning/preprocessing step for this specific dataset is to convert the `Attrition` column from its 'Yes'/'No' text format to a numerical format (e.g., 1 for 'Yes', 0 for 'No'). This is essential because most statistical analysis and machine learning algorithms work better with numerical data."
   ]
  },
  {
   "cell_type": "code",
   "execution_count": 17,
   "id": "7b4f5c4a",
   "metadata": {},
   "outputs": [],
   "source": [
    "# 1. Convert the 'Attrition' column from categorical ('Yes'/'No') to numerical (1/0).\n",
    "# This mapping makes it easier to perform mathematical calculations and statistical analysis.\n",
    "df['Attrition'] = df['Attrition'].map({'Yes': 1, 'No': 0})"
   ]
  },
  {
   "cell_type": "code",
   "execution_count": 29,
   "id": "5b6eaf13",
   "metadata": {},
   "outputs": [
    {
     "name": "stdout",
     "output_type": "stream",
     "text": [
      "Updated Attrition Counts (0: No, 1: Yes):\n",
      "Attrition\n",
      "0    1233\n",
      "1     237\n",
      "Name: count, dtype: int64\n"
     ]
    }
   ],
   "source": [
    "# Display the updated value counts for the 'Attrition' column to verify the conversion.\n",
    "print(\"Updated Attrition Counts (0: No, 1: Yes):\")\n",
    "print(df['Attrition'].value_counts())"
   ]
  },
  {
   "cell_type": "code",
   "execution_count": 19,
   "id": "4711b0b3",
   "metadata": {},
   "outputs": [
    {
     "name": "stdout",
     "output_type": "stream",
     "text": [
      "\n",
      "Overall Attrition Rate: 16.12%\n"
     ]
    }
   ],
   "source": [
    "# Calculate and print the overall attrition rate as a percentage.\n",
    "# This gives a baseline understanding of employee turnover in the company.\n",
    "overall_attrition_rate = df['Attrition'].mean() * 100\n",
    "print(f\"\\nOverall Attrition Rate: {overall_attrition_rate:.2f}%\")"
   ]
  },
  {
   "cell_type": "code",
   "execution_count": null,
   "id": "25a6db1b",
   "metadata": {},
   "outputs": [],
   "source": [
    "# Rename a column for better clarity or consistency.\n",
    "# Here, 'EmployeeNumber' is renamed to 'EmployeeID'.\n",
    "df = df.rename(columns={'EmployeeNumber': 'EmployeeID'})"
   ]
  },
  {
   "cell_type": "code",
   "execution_count": 21,
   "id": "794cd4fe",
   "metadata": {},
   "outputs": [
    {
     "name": "stdout",
     "output_type": "stream",
     "text": [
      "\n",
      "Unique values in 'Department' before any potential cleaning:\n",
      "['Sales' 'Research & Development' 'Human Resources']\n"
     ]
    }
   ],
   "source": [
    "# Check for unique values in a categorical column to identify potential inconsistencies or typos.\n",
    "# This helps in understanding the distinct categories present, e.g., in the 'Department' column.\n",
    "print(\"\\nUnique values in 'Department' before any potential cleaning:\")\n",
    "print(df['Department'].unique())"
   ]
  },
  {
   "cell_type": "code",
   "execution_count": 22,
   "id": "f378197d",
   "metadata": {},
   "outputs": [],
   "source": [
    "# Convert 'Age' column to a specific integer type (e.g., int32) for memory efficiency or consistency.\n",
    "# Explicitly setting the data type ensures it's stored and treated as intended.\n",
    "df['Age'] = df['Age'].astype('int32')"
   ]
  },
  {
   "cell_type": "code",
   "execution_count": 23,
   "id": "0ea27ddc",
   "metadata": {},
   "outputs": [],
   "source": [
    "# Apply string strip to a text column to remove any leading/trailing whitespace.\n",
    "# This helps standardize text data, even if no obvious whitespace is present in this clean dataset.\n",
    "df['JobRole'] = df['JobRole'].str.strip()"
   ]
  },
  {
   "cell_type": "code",
   "execution_count": 24,
   "id": "9caeb358",
   "metadata": {},
   "outputs": [],
   "source": [
    "# Drop a column that is constant or not relevant for the analysis.\n",
    "# 'EmployeeCount' is always 1 in this dataset, making it redundant for analysis.\n",
    "df = df.drop('EmployeeCount', axis=1)"
   ]
  },
  {
   "cell_type": "code",
   "execution_count": 25,
   "id": "0b6de699",
   "metadata": {},
   "outputs": [
    {
     "name": "stdout",
     "output_type": "stream",
     "text": [
      "\n",
      "Updated DataFrame Info after cleaning operations:\n",
      "<class 'pandas.core.frame.DataFrame'>\n",
      "RangeIndex: 1470 entries, 0 to 1469\n",
      "Data columns (total 34 columns):\n",
      " #   Column                    Non-Null Count  Dtype \n",
      "---  ------                    --------------  ----- \n",
      " 0   Age                       1470 non-null   int32 \n",
      " 1   Attrition                 1470 non-null   int64 \n",
      " 2   BusinessTravel            1470 non-null   object\n",
      " 3   DailyRate                 1470 non-null   int64 \n",
      " 4   Department                1470 non-null   object\n",
      " 5   DistanceFromHome          1470 non-null   int64 \n",
      " 6   Education                 1470 non-null   int64 \n",
      " 7   EducationField            1470 non-null   object\n",
      " 8   EmployeeID                1470 non-null   int64 \n",
      " 9   EnvironmentSatisfaction   1470 non-null   int64 \n",
      " 10  Gender                    1470 non-null   object\n",
      " 11  HourlyRate                1470 non-null   int64 \n",
      " 12  JobInvolvement            1470 non-null   int64 \n",
      " 13  JobLevel                  1470 non-null   int64 \n",
      " 14  JobRole                   1470 non-null   object\n",
      " 15  JobSatisfaction           1470 non-null   int64 \n",
      " 16  MaritalStatus             1470 non-null   object\n",
      " 17  MonthlyIncome             1470 non-null   int64 \n",
      " 18  MonthlyRate               1470 non-null   int64 \n",
      " 19  NumCompaniesWorked        1470 non-null   int64 \n",
      " 20  Over18                    1470 non-null   object\n",
      " 21  OverTime                  1470 non-null   object\n",
      " 22  PercentSalaryHike         1470 non-null   int64 \n",
      " 23  PerformanceRating         1470 non-null   int64 \n",
      " 24  RelationshipSatisfaction  1470 non-null   int64 \n",
      " 25  StandardHours             1470 non-null   int64 \n",
      " 26  StockOptionLevel          1470 non-null   int64 \n",
      " 27  TotalWorkingYears         1470 non-null   int64 \n",
      " 28  TrainingTimesLastYear     1470 non-null   int64 \n",
      " 29  WorkLifeBalance           1470 non-null   int64 \n",
      " 30  YearsAtCompany            1470 non-null   int64 \n",
      " 31  YearsInCurrentRole        1470 non-null   int64 \n",
      " 32  YearsSinceLastPromotion   1470 non-null   int64 \n",
      " 33  YearsWithCurrManager      1470 non-null   int64 \n",
      "dtypes: int32(1), int64(25), object(8)\n",
      "memory usage: 384.9+ KB\n",
      "None\n"
     ]
    }
   ],
   "source": [
    "# Display the updated DataFrame Info to show changes (e.g., EmployeeCount removed, Age type changed).\n",
    "print(\"\\nUpdated DataFrame Info after cleaning operations:\")\n",
    "print(df.info())"
   ]
  },
  {
   "cell_type": "code",
   "execution_count": 26,
   "id": "32d22c3e",
   "metadata": {},
   "outputs": [
    {
     "name": "stdout",
     "output_type": "stream",
     "text": [
      "\n",
      "Total missing values after cleaning (should be 0):\n",
      "0\n"
     ]
    }
   ],
   "source": [
    "# Display a quick check for missing values again to confirm no issues arose (or were fixed) during cleaning.\n",
    "print(\"\\nTotal missing values after cleaning (should be 0):\")\n",
    "print(df.isnull().sum().sum())"
   ]
  },
  {
   "cell_type": "code",
   "execution_count": 27,
   "id": "f1f7fdda",
   "metadata": {},
   "outputs": [
    {
     "name": "stdout",
     "output_type": "stream",
     "text": [
      "\n",
      "Total duplicate rows after cleaning (should be 0):\n",
      "0\n"
     ]
    }
   ],
   "source": [
    "# Display a quick check for duplicate rows again to confirm no duplicates were introduced or missed.\n",
    "print(\"\\nTotal duplicate rows after cleaning (should be 0):\")\n",
    "print(df.duplicated().sum())"
   ]
  },
  {
   "cell_type": "markdown",
   "id": "a8508cec",
   "metadata": {},
   "source": [
    "### 3. EDA (Exploratory Data Analysis)"
   ]
  },
  {
   "cell_type": "markdown",
   "id": "6e80f283",
   "metadata": {},
   "source": [
    "Exploratory Data Analysis (EDA) is a critical step where you use visualization and statistical techniques to understand the dataset's characteristics, identify patterns, detect outliers, and test hypotheses. It's about delving into the data to discover insights before formal modeling.\n",
    "\n",
    "**A. Objective:**\n",
    "* To gain a deep understanding of the data's structure and relationships between variables.\n",
    "* To identify key patterns, trends, and anomalies.\n",
    "* To discover factors that might be influencing the target variable (in this case, 'Attrition').\n",
    "* To prepare for more advanced statistical analysis or machine learning by identifying important features.\n",
    "\n",
    "**B. Why it's important:**\n",
    "* **Insight Generation:** Uncovers hidden patterns and relationships that simple summaries might miss.\n",
    "* **Problem Identification:** Helps spot data quality issues or unusual data distributions that require further cleaning or investigation.\n",
    "* **Feature Selection:** Guides you in deciding which variables are most relevant for predictive modeling.\n",
    "* **Hypothesis Testing:** Allows you to visually or statistically test initial hypotheses about your data.\n",
    "\n",
    "**C. Common EDA Techniques for this HR Dataset:**\n",
    "For this HR dataset, we'll focus on understanding which factors are associated with employee attrition. This involves:\n",
    "* Calculating the overall attrition rate.\n",
    "* Analyzing attrition rates across different categorical variables (e.g., Department, Job Role, Gender, Marital Status, Education Field, Business Travel, Overtime).\n",
    "* Analyzing the distribution of numerical variables for attrited vs. non-attrited employees (e.g., Age, Monthly Income, Years at Company, Job Satisfaction).\n",
    "* Visualizing these relationships using appropriate charts like bar charts, histograms, and box plots."
   ]
  },
  {
   "cell_type": "code",
   "execution_count": 54,
   "id": "6ecd894a",
   "metadata": {},
   "outputs": [],
   "source": [
    "# Import matplotlib.pyplot for plotting, commonly aliased as 'plt'.\n",
    "import matplotlib.pyplot as plt\n",
    "# Import seaborn for enhanced statistical data visualization, commonly aliased as 'sns'.\n",
    "import seaborn as sns"
   ]
  },
  {
   "cell_type": "code",
   "execution_count": 55,
   "id": "7c281b1c",
   "metadata": {},
   "outputs": [
    {
     "name": "stdout",
     "output_type": "stream",
     "text": [
      "Overall Attrition Rate: 16.12%\n"
     ]
    }
   ],
   "source": [
    "# Calculate the overall attrition rate from the 'Attrition' column (where 1=Yes, 0=No).\n",
    "# `.mean()` calculates the proportion of 'Yes' (1s), and multiplying by 100 gives a percentage.\n",
    "overall_attrition_rate = df['Attrition'].mean() * 100\n",
    "# Print the calculated overall attrition rate, formatted to two decimal places.\n",
    "print(f\"Overall Attrition Rate: {overall_attrition_rate:.2f}%\")"
   ]
  },
  {
   "cell_type": "markdown",
   "id": "63140b36",
   "metadata": {},
   "source": [
    "#### EDA on categorical variables"
   ]
  },
  {
   "cell_type": "code",
   "execution_count": 56,
   "id": "3e4a9d1e",
   "metadata": {},
   "outputs": [
    {
     "name": "stdout",
     "output_type": "stream",
     "text": [
      "\n",
      "Attrition Rate by Department:\n",
      "Department\n",
      "Sales                     20.627803\n",
      "Human Resources           19.047619\n",
      "Research & Development    13.839750\n",
      "Name: Attrition, dtype: float64\n"
     ]
    }
   ],
   "source": [
    "# Calculate the mean attrition rate for each 'Department' and sort in descending order.\n",
    "# Multiplying by 100 converts the proportion to a percentage.\n",
    "attrition_by_department = df.groupby('Department')['Attrition'].mean().sort_values(ascending=False) * 100\n",
    "# Print the attrition rates for each department.\n",
    "print(\"\\nAttrition Rate by Department:\")\n",
    "print(attrition_by_department)"
   ]
  },
  {
   "cell_type": "code",
   "execution_count": 57,
   "id": "9e44375e",
   "metadata": {},
   "outputs": [
    {
     "name": "stderr",
     "output_type": "stream",
     "text": [
      "C:\\Users\\Nalipi Sridhar Reddy\\AppData\\Local\\Temp\\ipykernel_460\\2244932472.py:7: FutureWarning:\n",
      "\n",
      "\n",
      "\n",
      "Passing `palette` without assigning `hue` is deprecated and will be removed in v0.14.0. Assign the `x` variable to `hue` and set `legend=False` for the same effect.\n",
      "\n",
      "\n"
     ]
    },
    {
     "data": {
      "image/png": "[encoded data removed]",
      "text/plain": [
       "<Figure size 1000x600 with 1 Axes>"
      ]
     },
     "metadata": {},
     "output_type": "display_data"
    }
   ],
   "source": [
    "# create a new figure with a specified size\n",
    "plt.figure(figsize=(10,6))\n",
    "\n",
    "# creating the bar plot using seaborn\n",
    "# Departments -> X-axis\n",
    "# attrition -> Y-axis\n",
    "sns.barplot(x=attrition_by_department.index, y=attrition_by_department.values, palette = 'viridis')\n",
    "\n",
    "plt.title('Attrition Rate by Department')\n",
    "plt.xlabel('Department')\n",
    "plt.ylabel('Attrition Rate (%)')\n",
    "plt.xticks(rotation=45)\n",
    "plt.tight_layout()\n",
    "plt.show()"
   ]
  },
  {
   "cell_type": "code",
   "execution_count": 62,
   "id": "0fce8b09",
   "metadata": {},
   "outputs": [
    {
     "name": "stdout",
     "output_type": "stream",
     "text": [
      "\n",
      "Attrition Rate by Job Role:\n",
      "JobRole\n",
      "Sales Representative     39.759036\n",
      "Laboratory Technician    23.938224\n",
      "Human Resources          23.076923\n",
      "Sales Executive          17.484663\n",
      "Research Scientist       16.095890\n",
      "Name: Attrition, dtype: float64\n"
     ]
    }
   ],
   "source": [
    "attrition_by_jobrole = df.groupby('JobRole')['Attrition'].mean().sort_values(ascending = False).head(5) * 100\n",
    "print(\"\\nAttrition Rate by Job Role:\")\n",
    "print(attrition_by_jobrole)"
   ]
  },
  {
   "cell_type": "code",
   "execution_count": 63,
   "id": "277b068e",
   "metadata": {},
   "outputs": [
    {
     "name": "stderr",
     "output_type": "stream",
     "text": [
      "C:\\Users\\Nalipi Sridhar Reddy\\AppData\\Local\\Temp\\ipykernel_460\\3171686162.py:8: FutureWarning:\n",
      "\n",
      "\n",
      "\n",
      "Passing `palette` without assigning `hue` is deprecated and will be removed in v0.14.0. Assign the `x` variable to `hue` and set `legend=False` for the same effect.\n",
      "\n",
      "\n"
     ]
    },
    {
     "data": {
      "image/png": "[encoded data removed]",
      "text/plain": [
       "<Figure size 1000x600 with 1 Axes>"
      ]
     },
     "metadata": {},
     "output_type": "display_data"
    }
   ],
   "source": [
    "# create a new figure with a specified size\n",
    "plt.figure(figsize = (10,6))\n",
    "\n",
    "\n",
    "# creating the bar plot using seaborn\n",
    "# Job Role -> X-axis\n",
    "# attrition -> Y-axis\n",
    "sns.barplot(x=attrition_by_jobrole.index, y=attrition_by_jobrole.values, palette = 'viridis')\n",
    "\n",
    "plt.title('Attrition Rate by Job Role')\n",
    "plt.xlabel('Job Role')\n",
    "plt.ylabel('Attrition Rate (%)')\n",
    "plt.xticks(rotation=45)\n",
    "plt.tight_layout()\n",
    "plt.show()\n"
   ]
  },
  {
   "cell_type": "code",
   "execution_count": 65,
   "id": "3a565cd6",
   "metadata": {},
   "outputs": [
    {
     "name": "stdout",
     "output_type": "stream",
     "text": [
      "\n",
      "Attrition Rate by Gender:\n",
      "JobRole\n",
      "Sales Representative     39.759036\n",
      "Laboratory Technician    23.938224\n",
      "Human Resources          23.076923\n",
      "Sales Executive          17.484663\n",
      "Research Scientist       16.095890\n",
      "Name: Attrition, dtype: float64\n"
     ]
    }
   ],
   "source": [
    "attrition_by_gender = df.groupby('Gender')['Attrition'].mean().sort_values(ascending = False).head(5) * 100\n",
    "print(\"\\nAttrition Rate by Gender:\")\n",
    "print(attrition_by_jobrole)"
   ]
  },
  {
   "cell_type": "code",
   "execution_count": 66,
   "id": "38c12948",
   "metadata": {},
   "outputs": [
    {
     "name": "stderr",
     "output_type": "stream",
     "text": [
      "C:\\Users\\Nalipi Sridhar Reddy\\AppData\\Local\\Temp\\ipykernel_460\\3535265048.py:8: FutureWarning:\n",
      "\n",
      "\n",
      "\n",
      "Passing `palette` without assigning `hue` is deprecated and will be removed in v0.14.0. Assign the `x` variable to `hue` and set `legend=False` for the same effect.\n",
      "\n",
      "\n"
     ]
    },
    {
     "data": {
      "image/png": "[encoded data removed]",
      "text/plain": [
       "<Figure size 1000x600 with 1 Axes>"
      ]
     },
     "metadata": {},
     "output_type": "display_data"
    }
   ],
   "source": [
    "# create a new figure with a specified size\n",
    "plt.figure(figsize = (10,6))\n",
    "\n",
    "\n",
    "# creating the bar plot using seaborn\n",
    "# Genderr -> X-axis\n",
    "# attrition -> Y-axis\n",
    "sns.barplot(x=attrition_by_gender.index, y=attrition_by_gender.values, palette = 'viridis')\n",
    "\n",
    "plt.title('Attrition Rate by Gender')\n",
    "plt.xlabel('Gender')\n",
    "plt.ylabel('Attrition Rate (%)')\n",
    "plt.xticks(rotation=45)\n",
    "plt.tight_layout()\n",
    "plt.show()\n"
   ]
  },
  {
   "cell_type": "code",
   "execution_count": null,
   "id": "322d006b",
   "metadata": {},
   "outputs": [],
   "source": []
  }
 ],
 "metadata": {
  "kernelspec": {
   "display_name": "Python 3",
   "language": "python",
   "name": "python3"
  },
  "language_info": {
   "codemirror_mode": {
    "name": "ipython",
    "version": 3
   },
   "file_extension": ".py",
   "mimetype": "text/x-python",
   "name": "python",
   "nbconvert_exporter": "python",
   "pygments_lexer": "ipython3",
   "version": "3.10.11"
  }
 },
 "nbformat": 4,
 "nbformat_minor": 5
}
